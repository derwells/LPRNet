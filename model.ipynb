{
 "cells": [
  {
   "cell_type": "code",
   "execution_count": 1,
   "metadata": {},
   "outputs": [],
   "source": [
    "import numpy as np\n",
    "import tensorflow as tf\n",
    "from tensorflow import keras\n",
    "from tensorflow.keras import layers\n",
    "\n",
    "TF_CPP_MIN_LOG_LEVEL=0"
   ]
  },
  {
   "cell_type": "code",
   "execution_count": 2,
   "metadata": {},
   "outputs": [],
   "source": [
    "def ctc_loss(y_true, y_pred):\n",
    "    batch_len = tf.cast(tf.shape(y_true)[0], dtype=\"int64\")\n",
    "    input_length = tf.cast(tf.shape(y_pred)[1], dtype=\"int64\")\n",
    "    label_length = tf.cast(tf.shape(y_true)[1], dtype=\"int64\")\n",
    "\n",
    "    input_length = input_length * tf.ones(shape=(batch_len, 1), dtype=\"int64\")\n",
    "    label_length = label_length * tf.ones(shape=(batch_len, 1), dtype=\"int64\")\n",
    "\n",
    "    loss = keras.backend.ctc_batch_cost(y_true, y_pred, input_length, label_length)\n",
    "    return loss\n",
    "\n",
    "def conv2D_batchnorm(*args, **kwargs):\n",
    "    return keras.Sequential([\n",
    "        layers.Conv2D(*args, **kwargs),\n",
    "        layers.BatchNormalization(),\n",
    "        layers.ReLU()\n",
    "    ])\n",
    "\n",
    "def basic_block(channel_out):\n",
    "    return keras.Sequential([\n",
    "        conv2D_batchnorm(\n",
    "            channel_out//4, (1, 1), padding=\"same\"\n",
    "        ),\n",
    "        conv2D_batchnorm(\n",
    "            channel_out//4, (3, 1), padding=\"same\"\n",
    "        ),\n",
    "        conv2D_batchnorm(\n",
    "            channel_out//4, (1, 3), padding=\"same\"\n",
    "        ),\n",
    "        conv2D_batchnorm(\n",
    "            channel_out//4, (1, 1), padding=\"same\"\n",
    "        ),\n",
    "    ])\n"
   ]
  },
  {
   "cell_type": "code",
   "execution_count": 3,
   "metadata": {},
   "outputs": [],
   "source": [
    "class global_context(layers.Layer):\n",
    "    def __init__(self, ksize, strides):\n",
    "        super().__init__()\n",
    "        self.ksize = ksize\n",
    "        self.strides = strides\n",
    "    \n",
    "    def call(self, channel_in):\n",
    "        x = layers.AveragePooling2D(\n",
    "            pool_size=self.ksize, strides=self.strides, padding=\"same\"\n",
    "        )(channel_in)\n",
    "\n",
    "        cx = layers.Lambda(lambda e: tf.math.square(e))(x)\n",
    "        cx = layers.Lambda(lambda e: tf.math.reduce_mean(e))(cx)\n",
    "\n",
    "        out = layers.Lambda(\n",
    "            lambda e: tf.math.divide(e[0], e[1])\n",
    "        )([x, cx])\n",
    "\n",
    "        return out\n",
    "\n",
    "def lprnet(\n",
    "    n_classes,\n",
    "    shape=(24, 94, 3),\n",
    "):\n",
    "    input_layer = layers.Input(shape)\n",
    "    x1 = layers.Conv2D(\n",
    "        64, (3, 3), strides=1, padding=\"same\"\n",
    "    )(input_layer)\n",
    "    x = layers.BatchNormalization()(x1)\n",
    "    x = layers.ReLU()(x)\n",
    "\n",
    "    x = layers.MaxPool2D(pool_size=(3, 3), strides=(1, 1), padding=\"same\")(x)\n",
    "    x2 = basic_block(128)(x)\n",
    "    x = layers.MaxPool2D(pool_size=(3, 3), strides=(1, 2), padding=\"same\")(x2)\n",
    "    x3 = basic_block(256)(x)\n",
    "    x = basic_block(256)(x3)\n",
    "    x = layers.MaxPool2D(pool_size=(3, 3), strides=(1, 2), padding=\"same\")(x)\n",
    "    x = layers.Dropout(0.5)(x)\n",
    "\n",
    "    x = layers.Conv2D(\n",
    "        256, (4, 1), strides=1, padding=\"same\"\n",
    "    )(x)\n",
    "    x = layers.BatchNormalization()(x)\n",
    "    x = layers.ReLU()(x)\n",
    "\n",
    "    x = layers.Dropout(0.5)(x)\n",
    "\n",
    "    x = layers.Conv2D(\n",
    "        n_classes, (1, 13), padding=\"same\"\n",
    "    )(x)\n",
    "    x = layers.BatchNormalization()(x)\n",
    "    x = layers.ReLU()(x)\n",
    "\n",
    "    # Global Context\n",
    "    cx = layers.Lambda(lambda e: tf.math.square(e))(x)\n",
    "    cx = layers.Lambda(lambda e: tf.math.reduce_mean(e))(cx)\n",
    "    x0  = layers.Lambda(\n",
    "        lambda e: tf.math.divide(e[0], e[1])\n",
    "    )([x, cx])\n",
    "\n",
    "    x1 = global_context(\n",
    "        ksize=[1, 4],\n",
    "        strides=[1, 4],\n",
    "    )(input_layer)\n",
    "    x2 = global_context(\n",
    "        ksize=[1, 4],\n",
    "        strides=[1, 4],\n",
    "    )(x2)\n",
    "    x3 = global_context(\n",
    "        ksize=[1, 2],\n",
    "        strides=[1, 2],\n",
    "    )(x3)\n",
    "\n",
    "    x = layers.Lambda(\n",
    "        lambda e: tf.concat([e[0], e[1], e[2], e[3]], 3)\n",
    "    )([x0, x1, x2, x3])\n",
    "    x = layers.Conv2D(\n",
    "        n_classes,\n",
    "        kernel_size=(1,1),\n",
    "        strides=(1,1),\n",
    "    )(x)\n",
    "    logits = layers.Lambda(\n",
    "        lambda x: tf.math.reduce_mean(x, axis=1)\n",
    "    )(x)\n",
    "    output_layer = layers.Softmax()(logits)\n",
    "\n",
    "\n",
    "    return keras.Model(input_layer, output_layer)"
   ]
  },
  {
   "cell_type": "code",
   "execution_count": 4,
   "metadata": {},
   "outputs": [
    {
     "name": "stdout",
     "output_type": "stream",
     "text": [
      "N_OUTPUTS: 67\n"
     ]
    },
    {
     "name": "stderr",
     "output_type": "stream",
     "text": [
      "2022-02-13 16:49:04.074856: I tensorflow/stream_executor/cuda/cuda_gpu_executor.cc:936] successful NUMA node read from SysFS had negative value (-1), but there must be at least one NUMA node, so returning NUMA node zero\n",
      "2022-02-13 16:49:04.608503: I tensorflow/stream_executor/cuda/cuda_gpu_executor.cc:936] successful NUMA node read from SysFS had negative value (-1), but there must be at least one NUMA node, so returning NUMA node zero\n",
      "2022-02-13 16:49:04.608801: I tensorflow/stream_executor/cuda/cuda_gpu_executor.cc:936] successful NUMA node read from SysFS had negative value (-1), but there must be at least one NUMA node, so returning NUMA node zero\n",
      "2022-02-13 16:49:04.635846: I tensorflow/core/platform/cpu_feature_guard.cc:151] This TensorFlow binary is optimized with oneAPI Deep Neural Network Library (oneDNN) to use the following CPU instructions in performance-critical operations:  AVX2 FMA\n",
      "To enable them in other operations, rebuild TensorFlow with the appropriate compiler flags.\n",
      "2022-02-13 16:49:04.636776: I tensorflow/stream_executor/cuda/cuda_gpu_executor.cc:936] successful NUMA node read from SysFS had negative value (-1), but there must be at least one NUMA node, so returning NUMA node zero\n",
      "2022-02-13 16:49:04.637057: I tensorflow/stream_executor/cuda/cuda_gpu_executor.cc:936] successful NUMA node read from SysFS had negative value (-1), but there must be at least one NUMA node, so returning NUMA node zero\n",
      "2022-02-13 16:49:04.637283: I tensorflow/stream_executor/cuda/cuda_gpu_executor.cc:936] successful NUMA node read from SysFS had negative value (-1), but there must be at least one NUMA node, so returning NUMA node zero\n",
      "2022-02-13 16:49:08.427950: I tensorflow/stream_executor/cuda/cuda_gpu_executor.cc:936] successful NUMA node read from SysFS had negative value (-1), but there must be at least one NUMA node, so returning NUMA node zero\n",
      "2022-02-13 16:49:08.428231: I tensorflow/stream_executor/cuda/cuda_gpu_executor.cc:936] successful NUMA node read from SysFS had negative value (-1), but there must be at least one NUMA node, so returning NUMA node zero\n",
      "2022-02-13 16:49:08.428468: I tensorflow/stream_executor/cuda/cuda_gpu_executor.cc:936] successful NUMA node read from SysFS had negative value (-1), but there must be at least one NUMA node, so returning NUMA node zero\n",
      "2022-02-13 16:49:08.437389: I tensorflow/core/common_runtime/gpu/gpu_device.cc:1525] Created device /job:localhost/replica:0/task:0/device:GPU:0 with 4097 MB memory:  -> device: 0, name: NVIDIA GeForce GTX 1660 SUPER, pci bus id: 0000:26:00.0, compute capability: 7.5\n"
     ]
    }
   ],
   "source": [
    "CHARS = ['京', '沪', '津', '渝', '冀', '晋', '蒙', '辽', '吉', '黑',\n",
    "         '苏', '浙', '皖', '闽', '赣', '鲁', '豫', '鄂', '湘', '粤',\n",
    "         '桂', '琼', '川', '贵', '云', '藏', '陕', '甘', '青', '宁',\n",
    "         '新',\n",
    "         '0', '1', '2', '3', '4', '5', '6', '7', '8', '9',\n",
    "         'A', 'B', 'C', 'D', 'E', 'F', 'G', 'H', 'J', 'K',\n",
    "         'L', 'M', 'N', 'P', 'Q', 'R', 'S', 'T', 'U', 'V',\n",
    "         'W', 'X', 'Y', 'Z','_'\n",
    "         ]\n",
    "\n",
    "CHARS_DICT = {char:i for i, char in enumerate(CHARS)}\n",
    "N_OUTPUTS = len(CHARS) + 1\n",
    "\n",
    "print(f\"N_OUTPUTS: {N_OUTPUTS}\")\n",
    "\n",
    "model = lprnet(N_OUTPUTS)\n",
    "learning_rate_scheduler = keras.optimizers.schedules.ExponentialDecay(\n",
    "    1e-3, \n",
    "    decay_steps=500,\n",
    "    decay_rate=0.995,\n",
    "    staircase=True\n",
    ")\n",
    "model.compile(\n",
    "    optimizer=keras.optimizers.Adam(\n",
    "        learning_rate=learning_rate_scheduler\n",
    "    ),\n",
    "    loss=ctc_loss\n",
    ")"
   ]
  },
  {
   "cell_type": "code",
   "execution_count": 5,
   "metadata": {},
   "outputs": [],
   "source": [
    "import os\n",
    "import cv2\n",
    "\n",
    "TRAIN = \"data/train\"\n",
    "VAL = \"data/val\"\n",
    "TEST = \"data/test\""
   ]
  },
  {
   "cell_type": "code",
   "execution_count": 7,
   "metadata": {},
   "outputs": [
    {
     "name": "stderr",
     "output_type": "stream",
     "text": [
      "2022-02-13 16:51:03.332177: I tensorflow/stream_executor/cuda/cuda_dnn.cc:368] Loaded cuDNN version 8302\n"
     ]
    },
    {
     "name": "stdout",
     "output_type": "stream",
     "text": [
      "3125/3125 [==============================] - 1959s 620ms/step - loss: 2.2371 - val_loss: 0.2235\n"
     ]
    },
    {
     "data": {
      "text/plain": [
       "<keras.callbacks.History at 0x7f32840183d0>"
      ]
     },
     "execution_count": 7,
     "metadata": {},
     "output_type": "execute_result"
    }
   ],
   "source": [
    "import os\n",
    "import cv2\n",
    "\n",
    "from classes.data_generator import *\n",
    "\n",
    "TRAIN = \"data/train\"\n",
    "VAL = \"data/val\"\n",
    "TEST = \"data/test\"\n",
    "\n",
    "# Generators\n",
    "training_generator = DataGenerator(\n",
    "    os.listdir(TRAIN),\n",
    "    TRAIN\n",
    ")\n",
    "validation_generator = DataGenerator(\n",
    "    os.listdir(VAL),\n",
    "    VAL\n",
    ")\n",
    "\n",
    "callbacks=[\n",
    "    keras.callbacks.EarlyStopping(\n",
    "        monitor=\"val_loss\", mode=\"min\", patience=10\n",
    "    ),\n",
    "]\n",
    "\n",
    "model.fit_generator(\n",
    "    generator=training_generator,\n",
    "    validation_data=validation_generator,\n",
    "    callbacks=callbacks\n",
    ")"
   ]
  },
  {
   "cell_type": "code",
   "execution_count": 8,
   "metadata": {},
   "outputs": [
    {
     "name": "stderr",
     "output_type": "stream",
     "text": [
      "2022-02-13 18:40:52.854449: W tensorflow/python/util/util.cc:368] Sets are not currently considered sequences, but this may change in the future, so consider avoiding using them.\n"
     ]
    },
    {
     "name": "stdout",
     "output_type": "stream",
     "text": [
      "INFO:tensorflow:Assets written to: full/assets\n"
     ]
    }
   ],
   "source": [
    "model.save('full')"
   ]
  },
  {
   "cell_type": "code",
   "execution_count": 36,
   "metadata": {},
   "outputs": [
    {
     "name": "stdout",
     "output_type": "stream",
     "text": [
      "data/test/50918-12_42_51_58_40_36_37.jpg\n",
      "(24, 94, 3)\n",
      "data/test/17337-12_42_36_32_47_34_34.jpg\n",
      "(24, 94, 3)\n",
      "data/test/54187-12_42_60_34_34_35_31.jpg\n",
      "(24, 94, 3)\n",
      "(3, 24, 94, 3)\n"
     ]
    },
    {
     "data": {
      "text/plain": [
       "<matplotlib.image.AxesImage at 0x7f3109440c40>"
      ]
     },
     "execution_count": 36,
     "metadata": {},
     "output_type": "execute_result"
    },
    {
     "data": {
      "image/png": "[encoded data removed]",
      "text/plain": [
       "<Figure size 720x360 with 1 Axes>"
      ]
     },
     "metadata": {
      "needs_background": "light"
     },
     "output_type": "display_data"
    }
   ],
   "source": [
    "import matplotlib.pyplot as plt\n",
    "\n",
    "test_data_fnames = os.listdir(TEST)[:3]\n",
    "test_data_fnames = list(map(\n",
    "    lambda e : os.path.join(TEST, e),\n",
    "    test_data_fnames\n",
    "))\n",
    "test_imgs = []\n",
    "for fname in test_data_fnames:\n",
    "    print(fname)\n",
    "    img = cv2.imread(fname)\n",
    "    img = cv2.resize(img, (94, 24))/256\n",
    "    print(img.shape)\n",
    "    test_imgs.append(img)\n",
    "test_imgs = tf.convert_to_tensor(test_imgs)\n",
    "print(test_imgs.shape)\n",
    "plt.figure(figsize=(10,5))\n",
    "plt.axis(\"off\")\n",
    "plt.imshow(test_imgs[1])"
   ]
  },
  {
   "cell_type": "code",
   "execution_count": 35,
   "metadata": {},
   "outputs": [
    {
     "name": "stdout",
     "output_type": "stream",
     "text": [
      "皖B51G33\n"
     ]
    }
   ],
   "source": [
    "import constants\n",
    "\n",
    "def decode_output(prediction):\n",
    "    prediction = np.expand_dims(prediction,axis=0)\n",
    "    ctc_decoded = keras.backend.ctc_decode(prediction, (24,))\n",
    "    flattened = np.array(ctc_decoded[0]).reshape(24)\n",
    "    lpn = [\n",
    "        constants.CHARS[e] \n",
    "        for e in flattened\n",
    "        if e > -1\n",
    "    ]\n",
    "    return \"\".join(lpn)\n",
    "\n",
    "\n",
    "preds = model.predict(test_imgs)\n",
    "lpn = decode_output(preds[1])\n",
    "print(lpn)"
   ]
  },
  {
   "cell_type": "code",
   "execution_count": 37,
   "metadata": {},
   "outputs": [
    {
     "data": {
      "text/plain": [
       "0.223667174577713"
      ]
     },
     "execution_count": 37,
     "metadata": {},
     "output_type": "execute_result"
    }
   ],
   "source": [
    "test_generator = DataGenerator(\n",
    "    os.listdir(TEST),\n",
    "    TEST\n",
    ")\n",
    "model.evaluate_generator(test_generator)"
   ]
  }
 ],
 "metadata": {
  "interpreter": {
   "hash": "d729c60030d22124f309314ed8b536bbf05fb9d62d10f80118cbfedc7320c2c2"
  },
  "kernelspec": {
   "display_name": "Python 3.8.10 64-bit ('python-3.8.10': venv)",
   "language": "python",
   "name": "python3"
  },
  "language_info": {
   "codemirror_mode": {
    "name": "ipython",
    "version": 3
   },
   "file_extension": ".py",
   "mimetype": "text/x-python",
   "name": "python",
   "nbconvert_exporter": "python",
   "pygments_lexer": "ipython3",
   "version": "3.8.10"
  },
  "orig_nbformat": 4
 },
 "nbformat": 4,
 "nbformat_minor": 2
}
