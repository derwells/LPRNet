{
 "cells": [
  {
   "cell_type": "code",
   "execution_count": 1,
   "metadata": {},
   "outputs": [
    {
     "name": "stderr",
     "output_type": "stream",
     "text": [
      "2022-02-09 10:09:00.021464: W tensorflow/stream_executor/platform/default/dso_loader.cc:64] Could not load dynamic library 'libcudart.so.11.0'; dlerror: libcudart.so.11.0: cannot open shared object file: No such file or directory; LD_LIBRARY_PATH: /usr/lib/cuda/include:/usr/lib/cuda/lib64:\n",
      "2022-02-09 10:09:00.021541: I tensorflow/stream_executor/cuda/cudart_stub.cc:29] Ignore above cudart dlerror if you do not have a GPU set up on your machine.\n"
     ]
    }
   ],
   "source": [
    "import numpy as np\n",
    "import tensorflow as tf\n",
    "from tensorflow import keras\n",
    "from tensorflow.keras import layers"
   ]
  },
  {
   "cell_type": "code",
   "execution_count": 33,
   "metadata": {},
   "outputs": [],
   "source": [
    "def ctc_loss(y_true, y_pred):\n",
    "    batch_len = tf.cast(tf.shape(y_true)[0], dtype=\"int64\")\n",
    "    input_length = tf.cast(tf.shape(y_pred)[1], dtype=\"int64\")\n",
    "    label_length = tf.cast(tf.shape(y_true)[1], dtype=\"int64\")\n",
    "\n",
    "    input_length = input_length * tf.ones(shape=(batch_len, 1), dtype=\"int64\")\n",
    "    label_length = label_length * tf.ones(shape=(batch_len, 1), dtype=\"int64\")\n",
    "\n",
    "    loss = keras.backend.ctc_batch_cost(y_true, y_pred, input_length, label_length)\n",
    "    return loss\n",
    "\n",
    "def conv2D_batchnorm(*args, **kwargs):\n",
    "    return keras.Sequential([\n",
    "        layers.Conv2D(*args, **kwargs),\n",
    "        layers.BatchNormalization(),\n",
    "        layers.ReLU()\n",
    "    ])\n",
    "\n",
    "def basic_block(channel_out):\n",
    "    return keras.Sequential([\n",
    "        conv2D_batchnorm(\n",
    "            channel_out//4, (1, 1), padding=\"same\"\n",
    "        ),\n",
    "        conv2D_batchnorm(\n",
    "            channel_out//4, (3, 1), padding=\"same\"\n",
    "        ),\n",
    "        conv2D_batchnorm(\n",
    "            channel_out//4, (1, 3), padding=\"same\"\n",
    "        ),\n",
    "        conv2D_batchnorm(\n",
    "            channel_out//4, (1, 1), padding=\"same\"\n",
    "        ),\n",
    "    ])\n"
   ]
  },
  {
   "cell_type": "code",
   "execution_count": 76,
   "metadata": {},
   "outputs": [],
   "source": [
    "class global_context(layers.Layer):\n",
    "    def __init__(self, ksize, strides):\n",
    "        super().__init__()\n",
    "        self.ksize = ksize\n",
    "        self.strides = strides\n",
    "    \n",
    "    def call(self, channel_in):\n",
    "        x = layers.AveragePooling2D(\n",
    "            pool_size=self.ksize, strides=self.strides, padding=\"same\"\n",
    "        )(channel_in)\n",
    "\n",
    "        cx = layers.Lambda(lambda e: tf.math.square(e))(x)\n",
    "        cx = layers.Lambda(lambda e: tf.math.reduce_mean(e))(cx)\n",
    "\n",
    "        out = layers.Lambda(\n",
    "            lambda e: tf.math.divide(e[0], e[1])\n",
    "        )([x, cx])\n",
    "\n",
    "        return out\n",
    "\n",
    "def lprnet(\n",
    "    n_classes,\n",
    "    shape=(24, 94, 3),\n",
    "):\n",
    "    input_layer = layers.Input(shape)\n",
    "    x1 = layers.Conv2D(\n",
    "        64, (3, 3), strides=1, padding=\"same\"\n",
    "    )(input_layer)\n",
    "    x = layers.BatchNormalization()(x1)\n",
    "    x = layers.ReLU()(x)\n",
    "\n",
    "    print(x.shape)\n",
    "    x = layers.MaxPool2D(pool_size=(3, 3), strides=(1, 1), padding=\"same\")(x)\n",
    "    x2 = basic_block(128)(x)\n",
    "    x = layers.MaxPool2D(pool_size=(3, 3), strides=(1, 2), padding=\"same\")(x2)\n",
    "    x3 = basic_block(256)(x)\n",
    "    x = basic_block(256)(x3)\n",
    "    x = layers.MaxPool2D(pool_size=(3, 3), strides=(1, 2), padding=\"same\")(x)\n",
    "    x = layers.Dropout(0.5)(x)\n",
    "\n",
    "    print(x.shape)\n",
    "    x = layers.Conv2D(\n",
    "        256, (4, 1), strides=1, padding=\"same\"\n",
    "    )(x)\n",
    "    x = layers.BatchNormalization()(x)\n",
    "    x = layers.ReLU()(x)\n",
    "\n",
    "    x = layers.Dropout(0.5)(x)\n",
    "\n",
    "    print(x.shape)\n",
    "    x = layers.Conv2D(\n",
    "        n_classes, (1, 13), padding=\"same\"\n",
    "    )(x)\n",
    "    x = layers.BatchNormalization()(x)\n",
    "    x = layers.ReLU()(x)\n",
    "\n",
    "    # Global Context\n",
    "    cx = layers.Lambda(lambda e: tf.math.square(e))(x)\n",
    "    cx = layers.Lambda(lambda e: tf.math.reduce_mean(e))(cx)\n",
    "    x0  = layers.Lambda(\n",
    "        lambda e: tf.math.divide(e[0], e[1])\n",
    "    )([x, cx])\n",
    "\n",
    "    x1 = global_context(\n",
    "        ksize=[1, 4],\n",
    "        strides=[1, 4],\n",
    "    )(input_layer)\n",
    "    x2 = global_context(\n",
    "        ksize=[1, 4],\n",
    "        strides=[1, 4],\n",
    "    )(x2)\n",
    "    x3 = global_context(\n",
    "        ksize=[1, 2],\n",
    "        strides=[1, 2],\n",
    "    )(x3)\n",
    "    print(x0.shape, x1.shape)\n",
    "\n",
    "    x = layers.Lambda(\n",
    "        lambda e: tf.concat([e[0], e[1], e[2], e[3]], 3)\n",
    "    )([x0, x1, x2, x3])\n",
    "    x = layers.Conv2D(\n",
    "        n_classes,\n",
    "        kernel_size=(1,1),\n",
    "        strides=(1,1),\n",
    "    )(x)\n",
    "    logits = layers.Lambda(\n",
    "        lambda x: tf.math.reduce_mean(x, axis=1)\n",
    "    )(x)\n",
    "    output_layer = layers.Softmax()(logits)\n",
    "\n",
    "\n",
    "\n",
    "    return keras.Model(input_layer, output_layer)"
   ]
  },
  {
   "cell_type": "code",
   "execution_count": 77,
   "metadata": {},
   "outputs": [
    {
     "name": "stdout",
     "output_type": "stream",
     "text": [
      "N_OUTPUTS: 67\n",
      "(None, 24, 94, 64)\n",
      "(None, 24, 24, 64)\n",
      "(None, 24, 24, 256)\n",
      "(None, 24, 24, 67) (None, 24, 24, 3)\n"
     ]
    }
   ],
   "source": [
    "CHARS = ['京', '沪', '津', '渝', '冀', '晋', '蒙', '辽', '吉', '黑',\n",
    "         '苏', '浙', '皖', '闽', '赣', '鲁', '豫', '鄂', '湘', '粤',\n",
    "         '桂', '琼', '川', '贵', '云', '藏', '陕', '甘', '青', '宁',\n",
    "         '新',\n",
    "         '0', '1', '2', '3', '4', '5', '6', '7', '8', '9',\n",
    "         'A', 'B', 'C', 'D', 'E', 'F', 'G', 'H', 'J', 'K',\n",
    "         'L', 'M', 'N', 'P', 'Q', 'R', 'S', 'T', 'U', 'V',\n",
    "         'W', 'X', 'Y', 'Z','_'\n",
    "         ]\n",
    "\n",
    "CHARS_DICT = {char:i for i, char in enumerate(CHARS)}\n",
    "N_OUTPUTS = len(CHARS) + 1\n",
    "\n",
    "print(f\"N_OUTPUTS: {N_OUTPUTS}\")\n",
    "\n",
    "model = lprnet(N_OUTPUTS)\n",
    "learning_rate_scheduler = keras.optimizers.schedules.ExponentialDecay(\n",
    "    1e-3, \n",
    "    decay_steps=500,\n",
    "    decay_rate=0.995,\n",
    "    staircase=True\n",
    ")\n",
    "model.compile(\n",
    "    optimizer=keras.optimizers.Adam(\n",
    "        learning_rate=learning_rate_scheduler\n",
    "    ),\n",
    "    loss=ctc_loss\n",
    ")"
   ]
  },
  {
   "cell_type": "code",
   "execution_count": 5,
   "metadata": {},
   "outputs": [
    {
     "name": "stdout",
     "output_type": "stream",
     "text": [
      "Done reading clean_data/ccpd_train\n",
      "Done reading clean_data/ccpd_val\n"
     ]
    }
   ],
   "source": [
    "import os\n",
    "import cv2\n",
    "\n",
    "TRAIN = \"clean_data/ccpd_train\"\n",
    "VAL = \"clean_data/ccpd_val\"\n",
    "\n",
    "\n",
    "def read_dir(fpath):\n",
    "    data, labels = [], []\n",
    "    for fname in os.listdir(fpath):\n",
    "        img = cv2.imread(os.path.join(fpath, fname))\n",
    "        img = cv2.resize(img, (94, 24))/256\n",
    "        data.append(img)\n",
    "\n",
    "        # Get LPN\n",
    "        lpn = fname.split('.')[0]\n",
    "        lpn = lpn.split('-')[1]\n",
    "        lpn = lpn.split('_')\n",
    "        lpn = [int(l) for l in lpn]\n",
    "        labels.append(lpn)\n",
    "    \n",
    "    print(f\"Done reading {fpath}\")\n",
    "\n",
    "    return (\n",
    "        tf.convert_to_tensor(data),\n",
    "        tf.convert_to_tensor(labels)\n",
    "    )\n",
    "\n",
    "train_data, train_labels = read_dir(TRAIN)\n",
    "val_data, val_labels = read_dir(VAL)"
   ]
  },
  {
   "cell_type": "code",
   "execution_count": 6,
   "metadata": {},
   "outputs": [
    {
     "data": {
      "text/plain": [
       "TensorShape([24, 94, 3])"
      ]
     },
     "execution_count": 6,
     "metadata": {},
     "output_type": "execute_result"
    }
   ],
   "source": [
    "train_data[0].shape"
   ]
  },
  {
   "cell_type": "code",
   "execution_count": 7,
   "metadata": {},
   "outputs": [
    {
     "data": {
      "text/plain": [
       "<matplotlib.image.AxesImage at 0x7f16e6d5fdc0>"
      ]
     },
     "execution_count": 7,
     "metadata": {},
     "output_type": "execute_result"
    },
    {
     "data": {
      "image/png": "[encoded data removed]",
      "text/plain": [
       "<Figure size 720x360 with 1 Axes>"
      ]
     },
     "metadata": {
      "needs_background": "light"
     },
     "output_type": "display_data"
    }
   ],
   "source": [
    "from matplotlib import pyplot as plt\n",
    "\n",
    "plt.figure(figsize = (10,5))\n",
    "plt.axis(\"off\")\n",
    "plt.imshow(train_data[0])"
   ]
  },
  {
   "cell_type": "code",
   "execution_count": 78,
   "metadata": {},
   "outputs": [
    {
     "name": "stdout",
     "output_type": "stream",
     "text": [
      "['皖', 'A', '3', '4', '0', '9', '8']\n"
     ]
    }
   ],
   "source": [
    "print([CHARS[l] for l in train_labels[0]])"
   ]
  },
  {
   "cell_type": "code",
   "execution_count": 79,
   "metadata": {},
   "outputs": [
    {
     "name": "stdout",
     "output_type": "stream",
     "text": [
      "Model: \"model_2\"\n",
      "__________________________________________________________________________________________________\n",
      " Layer (type)                   Output Shape         Param #     Connected to                     \n",
      "==================================================================================================\n",
      " input_33 (InputLayer)          [(None, 24, 94, 3)]  0           []                               \n",
      "                                                                                                  \n",
      " conv2d_481 (Conv2D)            (None, 24, 94, 64)   1792        ['input_33[0][0]']               \n",
      "                                                                                                  \n",
      " batch_normalization_479 (Batch  (None, 24, 94, 64)  256         ['conv2d_481[0][0]']             \n",
      " Normalization)                                                                                   \n",
      "                                                                                                  \n",
      " re_lu_480 (ReLU)               (None, 24, 94, 64)   0           ['batch_normalization_479[0][0]']\n",
      "                                                                                                  \n",
      " max_pooling2d_96 (MaxPooling2D  (None, 24, 94, 64)  0           ['re_lu_480[0][0]']              \n",
      " )                                                                                                \n",
      "                                                                                                  \n",
      " sequential_487 (Sequential)    (None, 24, 94, 32)   9856        ['max_pooling2d_96[0][0]']       \n",
      "                                                                                                  \n",
      " max_pooling2d_97 (MaxPooling2D  (None, 24, 47, 32)  0           ['sequential_487[0][0]']         \n",
      " )                                                                                                \n",
      "                                                                                                  \n",
      " sequential_492 (Sequential)    (None, 24, 47, 64)   32000       ['max_pooling2d_97[0][0]']       \n",
      "                                                                                                  \n",
      " sequential_497 (Sequential)    (None, 24, 47, 64)   34048       ['sequential_492[0][0]']         \n",
      "                                                                                                  \n",
      " max_pooling2d_98 (MaxPooling2D  (None, 24, 24, 64)  0           ['sequential_497[0][0]']         \n",
      " )                                                                                                \n",
      "                                                                                                  \n",
      " dropout_64 (Dropout)           (None, 24, 24, 64)   0           ['max_pooling2d_98[0][0]']       \n",
      "                                                                                                  \n",
      " conv2d_494 (Conv2D)            (None, 24, 24, 256)  65792       ['dropout_64[0][0]']             \n",
      "                                                                                                  \n",
      " batch_normalization_492 (Batch  (None, 24, 24, 256)  1024       ['conv2d_494[0][0]']             \n",
      " Normalization)                                                                                   \n",
      "                                                                                                  \n",
      " re_lu_493 (ReLU)               (None, 24, 24, 256)  0           ['batch_normalization_492[0][0]']\n",
      "                                                                                                  \n",
      " dropout_65 (Dropout)           (None, 24, 24, 256)  0           ['re_lu_493[0][0]']              \n",
      "                                                                                                  \n",
      " conv2d_495 (Conv2D)            (None, 24, 24, 67)   223043      ['dropout_65[0][0]']             \n",
      "                                                                                                  \n",
      " batch_normalization_493 (Batch  (None, 24, 24, 67)  268         ['conv2d_495[0][0]']             \n",
      " Normalization)                                                                                   \n",
      "                                                                                                  \n",
      " re_lu_494 (ReLU)               (None, 24, 24, 67)   0           ['batch_normalization_493[0][0]']\n",
      "                                                                                                  \n",
      " lambda_125 (Lambda)            (None, 24, 24, 67)   0           ['re_lu_494[0][0]']              \n",
      "                                                                                                  \n",
      " lambda_126 (Lambda)            ()                   0           ['lambda_125[0][0]']             \n",
      "                                                                                                  \n",
      " lambda_127 (Lambda)            (None, 24, 24, 67)   0           ['re_lu_494[0][0]',              \n",
      "                                                                  'lambda_126[0][0]']             \n",
      "                                                                                                  \n",
      " global_context_91 (global_cont  (None, 24, 24, 3)   0           ['input_33[0][0]']               \n",
      " ext)                                                                                             \n",
      "                                                                                                  \n",
      " global_context_92 (global_cont  (None, 24, 24, 32)  0           ['sequential_487[0][0]']         \n",
      " ext)                                                                                             \n",
      "                                                                                                  \n",
      " global_context_93 (global_cont  (None, 24, 24, 64)  0           ['sequential_492[0][0]']         \n",
      " ext)                                                                                             \n",
      "                                                                                                  \n",
      " lambda_128 (Lambda)            (None, 24, 24, 166)  0           ['lambda_127[0][0]',             \n",
      "                                                                  'global_context_91[0][0]',      \n",
      "                                                                  'global_context_92[0][0]',      \n",
      "                                                                  'global_context_93[0][0]']      \n",
      "                                                                                                  \n",
      " conv2d_496 (Conv2D)            (None, 24, 24, 67)   11189       ['lambda_128[0][0]']             \n",
      "                                                                                                  \n",
      " lambda_129 (Lambda)            (None, 24, 67)       0           ['conv2d_496[0][0]']             \n",
      "                                                                                                  \n",
      " softmax_1 (Softmax)            (None, 24, 67)       0           ['lambda_129[0][0]']             \n",
      "                                                                                                  \n",
      "==================================================================================================\n",
      "Total params: 379,268\n",
      "Trainable params: 377,214\n",
      "Non-trainable params: 2,054\n",
      "__________________________________________________________________________________________________\n"
     ]
    }
   ],
   "source": [
    "model.summary()"
   ]
  },
  {
   "cell_type": "code",
   "execution_count": 80,
   "metadata": {},
   "outputs": [
    {
     "name": "stdout",
     "output_type": "stream",
     "text": [
      "Epoch 1/50\n",
      "157/157 [==============================] - 118s 735ms/step - loss: 23.6769 - val_loss: 42.8549\n",
      "Epoch 2/50\n",
      " 77/157 [=============>................] - ETA: 50s - loss: 14.5184"
     ]
    },
    {
     "ename": "KeyboardInterrupt",
     "evalue": "",
     "output_type": "error",
     "traceback": [
      "\u001b[0;31m---------------------------------------------------------------------------\u001b[0m",
      "\u001b[0;31mKeyboardInterrupt\u001b[0m                         Traceback (most recent call last)",
      "\u001b[1;32m/home/derick/dev/lprnet/model.ipynb Cell 10'\u001b[0m in \u001b[0;36m<module>\u001b[0;34m\u001b[0m\n\u001b[1;32m      <a href='vscode-notebook-cell:/home/derick/dev/lprnet/model.ipynb#ch0000008?line=0'>1</a>\u001b[0m callbacks\u001b[39m=\u001b[39m[\n\u001b[1;32m      <a href='vscode-notebook-cell:/home/derick/dev/lprnet/model.ipynb#ch0000008?line=1'>2</a>\u001b[0m     keras\u001b[39m.\u001b[39mcallbacks\u001b[39m.\u001b[39mEarlyStopping(\n\u001b[1;32m      <a href='vscode-notebook-cell:/home/derick/dev/lprnet/model.ipynb#ch0000008?line=2'>3</a>\u001b[0m         monitor\u001b[39m=\u001b[39m\u001b[39m\"\u001b[39m\u001b[39mval_loss\u001b[39m\u001b[39m\"\u001b[39m, mode\u001b[39m=\u001b[39m\u001b[39m\"\u001b[39m\u001b[39mmin\u001b[39m\u001b[39m\"\u001b[39m, patience\u001b[39m=\u001b[39m\u001b[39m10\u001b[39m\n\u001b[1;32m      <a href='vscode-notebook-cell:/home/derick/dev/lprnet/model.ipynb#ch0000008?line=3'>4</a>\u001b[0m     )\n\u001b[1;32m      <a href='vscode-notebook-cell:/home/derick/dev/lprnet/model.ipynb#ch0000008?line=4'>5</a>\u001b[0m ]\n\u001b[0;32m----> <a href='vscode-notebook-cell:/home/derick/dev/lprnet/model.ipynb#ch0000008?line=6'>7</a>\u001b[0m model\u001b[39m.\u001b[39;49mfit(\n\u001b[1;32m      <a href='vscode-notebook-cell:/home/derick/dev/lprnet/model.ipynb#ch0000008?line=7'>8</a>\u001b[0m     train_data, train_labels,\n\u001b[1;32m      <a href='vscode-notebook-cell:/home/derick/dev/lprnet/model.ipynb#ch0000008?line=8'>9</a>\u001b[0m     validation_data\u001b[39m=\u001b[39;49m(val_data, val_labels),\n\u001b[1;32m     <a href='vscode-notebook-cell:/home/derick/dev/lprnet/model.ipynb#ch0000008?line=9'>10</a>\u001b[0m     epochs\u001b[39m=\u001b[39;49m\u001b[39m50\u001b[39;49m,\n\u001b[1;32m     <a href='vscode-notebook-cell:/home/derick/dev/lprnet/model.ipynb#ch0000008?line=10'>11</a>\u001b[0m     batch_size\u001b[39m=\u001b[39;49m\u001b[39m32\u001b[39;49m,\n\u001b[1;32m     <a href='vscode-notebook-cell:/home/derick/dev/lprnet/model.ipynb#ch0000008?line=11'>12</a>\u001b[0m     callbacks\u001b[39m=\u001b[39;49mcallbacks\n\u001b[1;32m     <a href='vscode-notebook-cell:/home/derick/dev/lprnet/model.ipynb#ch0000008?line=12'>13</a>\u001b[0m )\n",
      "File \u001b[0;32m~/dev/lprnet/.direnv/python-3.8.10/lib/python3.8/site-packages/keras/utils/traceback_utils.py:64\u001b[0m, in \u001b[0;36mfilter_traceback.<locals>.error_handler\u001b[0;34m(*args, **kwargs)\u001b[0m\n\u001b[1;32m     <a href='file:///~/dev/lprnet/.direnv/python-3.8.10/lib/python3.8/site-packages/keras/utils/traceback_utils.py?line=61'>62</a>\u001b[0m filtered_tb \u001b[39m=\u001b[39m \u001b[39mNone\u001b[39;00m\n\u001b[1;32m     <a href='file:///~/dev/lprnet/.direnv/python-3.8.10/lib/python3.8/site-packages/keras/utils/traceback_utils.py?line=62'>63</a>\u001b[0m \u001b[39mtry\u001b[39;00m:\n\u001b[0;32m---> <a href='file:///~/dev/lprnet/.direnv/python-3.8.10/lib/python3.8/site-packages/keras/utils/traceback_utils.py?line=63'>64</a>\u001b[0m   \u001b[39mreturn\u001b[39;00m fn(\u001b[39m*\u001b[39;49margs, \u001b[39m*\u001b[39;49m\u001b[39m*\u001b[39;49mkwargs)\n\u001b[1;32m     <a href='file:///~/dev/lprnet/.direnv/python-3.8.10/lib/python3.8/site-packages/keras/utils/traceback_utils.py?line=64'>65</a>\u001b[0m \u001b[39mexcept\u001b[39;00m \u001b[39mException\u001b[39;00m \u001b[39mas\u001b[39;00m e:  \u001b[39m# pylint: disable=broad-except\u001b[39;00m\n\u001b[1;32m     <a href='file:///~/dev/lprnet/.direnv/python-3.8.10/lib/python3.8/site-packages/keras/utils/traceback_utils.py?line=65'>66</a>\u001b[0m   filtered_tb \u001b[39m=\u001b[39m _process_traceback_frames(e\u001b[39m.\u001b[39m__traceback__)\n",
      "File \u001b[0;32m~/dev/lprnet/.direnv/python-3.8.10/lib/python3.8/site-packages/keras/engine/training.py:1384\u001b[0m, in \u001b[0;36mModel.fit\u001b[0;34m(self, x, y, batch_size, epochs, verbose, callbacks, validation_split, validation_data, shuffle, class_weight, sample_weight, initial_epoch, steps_per_epoch, validation_steps, validation_batch_size, validation_freq, max_queue_size, workers, use_multiprocessing)\u001b[0m\n\u001b[1;32m   <a href='file:///~/dev/lprnet/.direnv/python-3.8.10/lib/python3.8/site-packages/keras/engine/training.py?line=1376'>1377</a>\u001b[0m \u001b[39mwith\u001b[39;00m tf\u001b[39m.\u001b[39mprofiler\u001b[39m.\u001b[39mexperimental\u001b[39m.\u001b[39mTrace(\n\u001b[1;32m   <a href='file:///~/dev/lprnet/.direnv/python-3.8.10/lib/python3.8/site-packages/keras/engine/training.py?line=1377'>1378</a>\u001b[0m     \u001b[39m'\u001b[39m\u001b[39mtrain\u001b[39m\u001b[39m'\u001b[39m,\n\u001b[1;32m   <a href='file:///~/dev/lprnet/.direnv/python-3.8.10/lib/python3.8/site-packages/keras/engine/training.py?line=1378'>1379</a>\u001b[0m     epoch_num\u001b[39m=\u001b[39mepoch,\n\u001b[1;32m   <a href='file:///~/dev/lprnet/.direnv/python-3.8.10/lib/python3.8/site-packages/keras/engine/training.py?line=1379'>1380</a>\u001b[0m     step_num\u001b[39m=\u001b[39mstep,\n\u001b[1;32m   <a href='file:///~/dev/lprnet/.direnv/python-3.8.10/lib/python3.8/site-packages/keras/engine/training.py?line=1380'>1381</a>\u001b[0m     batch_size\u001b[39m=\u001b[39mbatch_size,\n\u001b[1;32m   <a href='file:///~/dev/lprnet/.direnv/python-3.8.10/lib/python3.8/site-packages/keras/engine/training.py?line=1381'>1382</a>\u001b[0m     _r\u001b[39m=\u001b[39m\u001b[39m1\u001b[39m):\n\u001b[1;32m   <a href='file:///~/dev/lprnet/.direnv/python-3.8.10/lib/python3.8/site-packages/keras/engine/training.py?line=1382'>1383</a>\u001b[0m   callbacks\u001b[39m.\u001b[39mon_train_batch_begin(step)\n\u001b[0;32m-> <a href='file:///~/dev/lprnet/.direnv/python-3.8.10/lib/python3.8/site-packages/keras/engine/training.py?line=1383'>1384</a>\u001b[0m   tmp_logs \u001b[39m=\u001b[39m \u001b[39mself\u001b[39;49m\u001b[39m.\u001b[39;49mtrain_function(iterator)\n\u001b[1;32m   <a href='file:///~/dev/lprnet/.direnv/python-3.8.10/lib/python3.8/site-packages/keras/engine/training.py?line=1384'>1385</a>\u001b[0m   \u001b[39mif\u001b[39;00m data_handler\u001b[39m.\u001b[39mshould_sync:\n\u001b[1;32m   <a href='file:///~/dev/lprnet/.direnv/python-3.8.10/lib/python3.8/site-packages/keras/engine/training.py?line=1385'>1386</a>\u001b[0m     context\u001b[39m.\u001b[39masync_wait()\n",
      "File \u001b[0;32m~/dev/lprnet/.direnv/python-3.8.10/lib/python3.8/site-packages/tensorflow/python/util/traceback_utils.py:150\u001b[0m, in \u001b[0;36mfilter_traceback.<locals>.error_handler\u001b[0;34m(*args, **kwargs)\u001b[0m\n\u001b[1;32m    <a href='file:///~/dev/lprnet/.direnv/python-3.8.10/lib/python3.8/site-packages/tensorflow/python/util/traceback_utils.py?line=147'>148</a>\u001b[0m filtered_tb \u001b[39m=\u001b[39m \u001b[39mNone\u001b[39;00m\n\u001b[1;32m    <a href='file:///~/dev/lprnet/.direnv/python-3.8.10/lib/python3.8/site-packages/tensorflow/python/util/traceback_utils.py?line=148'>149</a>\u001b[0m \u001b[39mtry\u001b[39;00m:\n\u001b[0;32m--> <a href='file:///~/dev/lprnet/.direnv/python-3.8.10/lib/python3.8/site-packages/tensorflow/python/util/traceback_utils.py?line=149'>150</a>\u001b[0m   \u001b[39mreturn\u001b[39;00m fn(\u001b[39m*\u001b[39;49margs, \u001b[39m*\u001b[39;49m\u001b[39m*\u001b[39;49mkwargs)\n\u001b[1;32m    <a href='file:///~/dev/lprnet/.direnv/python-3.8.10/lib/python3.8/site-packages/tensorflow/python/util/traceback_utils.py?line=150'>151</a>\u001b[0m \u001b[39mexcept\u001b[39;00m \u001b[39mException\u001b[39;00m \u001b[39mas\u001b[39;00m e:\n\u001b[1;32m    <a href='file:///~/dev/lprnet/.direnv/python-3.8.10/lib/python3.8/site-packages/tensorflow/python/util/traceback_utils.py?line=151'>152</a>\u001b[0m   filtered_tb \u001b[39m=\u001b[39m _process_traceback_frames(e\u001b[39m.\u001b[39m__traceback__)\n",
      "File \u001b[0;32m~/dev/lprnet/.direnv/python-3.8.10/lib/python3.8/site-packages/tensorflow/python/eager/def_function.py:915\u001b[0m, in \u001b[0;36mFunction.__call__\u001b[0;34m(self, *args, **kwds)\u001b[0m\n\u001b[1;32m    <a href='file:///~/dev/lprnet/.direnv/python-3.8.10/lib/python3.8/site-packages/tensorflow/python/eager/def_function.py?line=911'>912</a>\u001b[0m compiler \u001b[39m=\u001b[39m \u001b[39m\"\u001b[39m\u001b[39mxla\u001b[39m\u001b[39m\"\u001b[39m \u001b[39mif\u001b[39;00m \u001b[39mself\u001b[39m\u001b[39m.\u001b[39m_jit_compile \u001b[39melse\u001b[39;00m \u001b[39m\"\u001b[39m\u001b[39mnonXla\u001b[39m\u001b[39m\"\u001b[39m\n\u001b[1;32m    <a href='file:///~/dev/lprnet/.direnv/python-3.8.10/lib/python3.8/site-packages/tensorflow/python/eager/def_function.py?line=913'>914</a>\u001b[0m \u001b[39mwith\u001b[39;00m OptionalXlaContext(\u001b[39mself\u001b[39m\u001b[39m.\u001b[39m_jit_compile):\n\u001b[0;32m--> <a href='file:///~/dev/lprnet/.direnv/python-3.8.10/lib/python3.8/site-packages/tensorflow/python/eager/def_function.py?line=914'>915</a>\u001b[0m   result \u001b[39m=\u001b[39m \u001b[39mself\u001b[39;49m\u001b[39m.\u001b[39;49m_call(\u001b[39m*\u001b[39;49margs, \u001b[39m*\u001b[39;49m\u001b[39m*\u001b[39;49mkwds)\n\u001b[1;32m    <a href='file:///~/dev/lprnet/.direnv/python-3.8.10/lib/python3.8/site-packages/tensorflow/python/eager/def_function.py?line=916'>917</a>\u001b[0m new_tracing_count \u001b[39m=\u001b[39m \u001b[39mself\u001b[39m\u001b[39m.\u001b[39mexperimental_get_tracing_count()\n\u001b[1;32m    <a href='file:///~/dev/lprnet/.direnv/python-3.8.10/lib/python3.8/site-packages/tensorflow/python/eager/def_function.py?line=917'>918</a>\u001b[0m without_tracing \u001b[39m=\u001b[39m (tracing_count \u001b[39m==\u001b[39m new_tracing_count)\n",
      "File \u001b[0;32m~/dev/lprnet/.direnv/python-3.8.10/lib/python3.8/site-packages/tensorflow/python/eager/def_function.py:947\u001b[0m, in \u001b[0;36mFunction._call\u001b[0;34m(self, *args, **kwds)\u001b[0m\n\u001b[1;32m    <a href='file:///~/dev/lprnet/.direnv/python-3.8.10/lib/python3.8/site-packages/tensorflow/python/eager/def_function.py?line=943'>944</a>\u001b[0m   \u001b[39mself\u001b[39m\u001b[39m.\u001b[39m_lock\u001b[39m.\u001b[39mrelease()\n\u001b[1;32m    <a href='file:///~/dev/lprnet/.direnv/python-3.8.10/lib/python3.8/site-packages/tensorflow/python/eager/def_function.py?line=944'>945</a>\u001b[0m   \u001b[39m# In this case we have created variables on the first call, so we run the\u001b[39;00m\n\u001b[1;32m    <a href='file:///~/dev/lprnet/.direnv/python-3.8.10/lib/python3.8/site-packages/tensorflow/python/eager/def_function.py?line=945'>946</a>\u001b[0m   \u001b[39m# defunned version which is guaranteed to never create variables.\u001b[39;00m\n\u001b[0;32m--> <a href='file:///~/dev/lprnet/.direnv/python-3.8.10/lib/python3.8/site-packages/tensorflow/python/eager/def_function.py?line=946'>947</a>\u001b[0m   \u001b[39mreturn\u001b[39;00m \u001b[39mself\u001b[39;49m\u001b[39m.\u001b[39;49m_stateless_fn(\u001b[39m*\u001b[39;49margs, \u001b[39m*\u001b[39;49m\u001b[39m*\u001b[39;49mkwds)  \u001b[39m# pylint: disable=not-callable\u001b[39;00m\n\u001b[1;32m    <a href='file:///~/dev/lprnet/.direnv/python-3.8.10/lib/python3.8/site-packages/tensorflow/python/eager/def_function.py?line=947'>948</a>\u001b[0m \u001b[39melif\u001b[39;00m \u001b[39mself\u001b[39m\u001b[39m.\u001b[39m_stateful_fn \u001b[39mis\u001b[39;00m \u001b[39mnot\u001b[39;00m \u001b[39mNone\u001b[39;00m:\n\u001b[1;32m    <a href='file:///~/dev/lprnet/.direnv/python-3.8.10/lib/python3.8/site-packages/tensorflow/python/eager/def_function.py?line=948'>949</a>\u001b[0m   \u001b[39m# Release the lock early so that multiple threads can perform the call\u001b[39;00m\n\u001b[1;32m    <a href='file:///~/dev/lprnet/.direnv/python-3.8.10/lib/python3.8/site-packages/tensorflow/python/eager/def_function.py?line=949'>950</a>\u001b[0m   \u001b[39m# in parallel.\u001b[39;00m\n\u001b[1;32m    <a href='file:///~/dev/lprnet/.direnv/python-3.8.10/lib/python3.8/site-packages/tensorflow/python/eager/def_function.py?line=950'>951</a>\u001b[0m   \u001b[39mself\u001b[39m\u001b[39m.\u001b[39m_lock\u001b[39m.\u001b[39mrelease()\n",
      "File \u001b[0;32m~/dev/lprnet/.direnv/python-3.8.10/lib/python3.8/site-packages/tensorflow/python/eager/function.py:2956\u001b[0m, in \u001b[0;36mFunction.__call__\u001b[0;34m(self, *args, **kwargs)\u001b[0m\n\u001b[1;32m   <a href='file:///~/dev/lprnet/.direnv/python-3.8.10/lib/python3.8/site-packages/tensorflow/python/eager/function.py?line=2952'>2953</a>\u001b[0m \u001b[39mwith\u001b[39;00m \u001b[39mself\u001b[39m\u001b[39m.\u001b[39m_lock:\n\u001b[1;32m   <a href='file:///~/dev/lprnet/.direnv/python-3.8.10/lib/python3.8/site-packages/tensorflow/python/eager/function.py?line=2953'>2954</a>\u001b[0m   (graph_function,\n\u001b[1;32m   <a href='file:///~/dev/lprnet/.direnv/python-3.8.10/lib/python3.8/site-packages/tensorflow/python/eager/function.py?line=2954'>2955</a>\u001b[0m    filtered_flat_args) \u001b[39m=\u001b[39m \u001b[39mself\u001b[39m\u001b[39m.\u001b[39m_maybe_define_function(args, kwargs)\n\u001b[0;32m-> <a href='file:///~/dev/lprnet/.direnv/python-3.8.10/lib/python3.8/site-packages/tensorflow/python/eager/function.py?line=2955'>2956</a>\u001b[0m \u001b[39mreturn\u001b[39;00m graph_function\u001b[39m.\u001b[39;49m_call_flat(\n\u001b[1;32m   <a href='file:///~/dev/lprnet/.direnv/python-3.8.10/lib/python3.8/site-packages/tensorflow/python/eager/function.py?line=2956'>2957</a>\u001b[0m     filtered_flat_args, captured_inputs\u001b[39m=\u001b[39;49mgraph_function\u001b[39m.\u001b[39;49mcaptured_inputs)\n",
      "File \u001b[0;32m~/dev/lprnet/.direnv/python-3.8.10/lib/python3.8/site-packages/tensorflow/python/eager/function.py:1853\u001b[0m, in \u001b[0;36mConcreteFunction._call_flat\u001b[0;34m(self, args, captured_inputs, cancellation_manager)\u001b[0m\n\u001b[1;32m   <a href='file:///~/dev/lprnet/.direnv/python-3.8.10/lib/python3.8/site-packages/tensorflow/python/eager/function.py?line=1848'>1849</a>\u001b[0m possible_gradient_type \u001b[39m=\u001b[39m gradients_util\u001b[39m.\u001b[39mPossibleTapeGradientTypes(args)\n\u001b[1;32m   <a href='file:///~/dev/lprnet/.direnv/python-3.8.10/lib/python3.8/site-packages/tensorflow/python/eager/function.py?line=1849'>1850</a>\u001b[0m \u001b[39mif\u001b[39;00m (possible_gradient_type \u001b[39m==\u001b[39m gradients_util\u001b[39m.\u001b[39mPOSSIBLE_GRADIENT_TYPES_NONE\n\u001b[1;32m   <a href='file:///~/dev/lprnet/.direnv/python-3.8.10/lib/python3.8/site-packages/tensorflow/python/eager/function.py?line=1850'>1851</a>\u001b[0m     \u001b[39mand\u001b[39;00m executing_eagerly):\n\u001b[1;32m   <a href='file:///~/dev/lprnet/.direnv/python-3.8.10/lib/python3.8/site-packages/tensorflow/python/eager/function.py?line=1851'>1852</a>\u001b[0m   \u001b[39m# No tape is watching; skip to running the function.\u001b[39;00m\n\u001b[0;32m-> <a href='file:///~/dev/lprnet/.direnv/python-3.8.10/lib/python3.8/site-packages/tensorflow/python/eager/function.py?line=1852'>1853</a>\u001b[0m   \u001b[39mreturn\u001b[39;00m \u001b[39mself\u001b[39m\u001b[39m.\u001b[39m_build_call_outputs(\u001b[39mself\u001b[39;49m\u001b[39m.\u001b[39;49m_inference_function\u001b[39m.\u001b[39;49mcall(\n\u001b[1;32m   <a href='file:///~/dev/lprnet/.direnv/python-3.8.10/lib/python3.8/site-packages/tensorflow/python/eager/function.py?line=1853'>1854</a>\u001b[0m       ctx, args, cancellation_manager\u001b[39m=\u001b[39;49mcancellation_manager))\n\u001b[1;32m   <a href='file:///~/dev/lprnet/.direnv/python-3.8.10/lib/python3.8/site-packages/tensorflow/python/eager/function.py?line=1854'>1855</a>\u001b[0m forward_backward \u001b[39m=\u001b[39m \u001b[39mself\u001b[39m\u001b[39m.\u001b[39m_select_forward_and_backward_functions(\n\u001b[1;32m   <a href='file:///~/dev/lprnet/.direnv/python-3.8.10/lib/python3.8/site-packages/tensorflow/python/eager/function.py?line=1855'>1856</a>\u001b[0m     args,\n\u001b[1;32m   <a href='file:///~/dev/lprnet/.direnv/python-3.8.10/lib/python3.8/site-packages/tensorflow/python/eager/function.py?line=1856'>1857</a>\u001b[0m     possible_gradient_type,\n\u001b[1;32m   <a href='file:///~/dev/lprnet/.direnv/python-3.8.10/lib/python3.8/site-packages/tensorflow/python/eager/function.py?line=1857'>1858</a>\u001b[0m     executing_eagerly)\n\u001b[1;32m   <a href='file:///~/dev/lprnet/.direnv/python-3.8.10/lib/python3.8/site-packages/tensorflow/python/eager/function.py?line=1858'>1859</a>\u001b[0m forward_function, args_with_tangents \u001b[39m=\u001b[39m forward_backward\u001b[39m.\u001b[39mforward()\n",
      "File \u001b[0;32m~/dev/lprnet/.direnv/python-3.8.10/lib/python3.8/site-packages/tensorflow/python/eager/function.py:499\u001b[0m, in \u001b[0;36m_EagerDefinedFunction.call\u001b[0;34m(self, ctx, args, cancellation_manager)\u001b[0m\n\u001b[1;32m    <a href='file:///~/dev/lprnet/.direnv/python-3.8.10/lib/python3.8/site-packages/tensorflow/python/eager/function.py?line=496'>497</a>\u001b[0m \u001b[39mwith\u001b[39;00m _InterpolateFunctionError(\u001b[39mself\u001b[39m):\n\u001b[1;32m    <a href='file:///~/dev/lprnet/.direnv/python-3.8.10/lib/python3.8/site-packages/tensorflow/python/eager/function.py?line=497'>498</a>\u001b[0m   \u001b[39mif\u001b[39;00m cancellation_manager \u001b[39mis\u001b[39;00m \u001b[39mNone\u001b[39;00m:\n\u001b[0;32m--> <a href='file:///~/dev/lprnet/.direnv/python-3.8.10/lib/python3.8/site-packages/tensorflow/python/eager/function.py?line=498'>499</a>\u001b[0m     outputs \u001b[39m=\u001b[39m execute\u001b[39m.\u001b[39;49mexecute(\n\u001b[1;32m    <a href='file:///~/dev/lprnet/.direnv/python-3.8.10/lib/python3.8/site-packages/tensorflow/python/eager/function.py?line=499'>500</a>\u001b[0m         \u001b[39mstr\u001b[39;49m(\u001b[39mself\u001b[39;49m\u001b[39m.\u001b[39;49msignature\u001b[39m.\u001b[39;49mname),\n\u001b[1;32m    <a href='file:///~/dev/lprnet/.direnv/python-3.8.10/lib/python3.8/site-packages/tensorflow/python/eager/function.py?line=500'>501</a>\u001b[0m         num_outputs\u001b[39m=\u001b[39;49m\u001b[39mself\u001b[39;49m\u001b[39m.\u001b[39;49m_num_outputs,\n\u001b[1;32m    <a href='file:///~/dev/lprnet/.direnv/python-3.8.10/lib/python3.8/site-packages/tensorflow/python/eager/function.py?line=501'>502</a>\u001b[0m         inputs\u001b[39m=\u001b[39;49margs,\n\u001b[1;32m    <a href='file:///~/dev/lprnet/.direnv/python-3.8.10/lib/python3.8/site-packages/tensorflow/python/eager/function.py?line=502'>503</a>\u001b[0m         attrs\u001b[39m=\u001b[39;49mattrs,\n\u001b[1;32m    <a href='file:///~/dev/lprnet/.direnv/python-3.8.10/lib/python3.8/site-packages/tensorflow/python/eager/function.py?line=503'>504</a>\u001b[0m         ctx\u001b[39m=\u001b[39;49mctx)\n\u001b[1;32m    <a href='file:///~/dev/lprnet/.direnv/python-3.8.10/lib/python3.8/site-packages/tensorflow/python/eager/function.py?line=504'>505</a>\u001b[0m   \u001b[39melse\u001b[39;00m:\n\u001b[1;32m    <a href='file:///~/dev/lprnet/.direnv/python-3.8.10/lib/python3.8/site-packages/tensorflow/python/eager/function.py?line=505'>506</a>\u001b[0m     outputs \u001b[39m=\u001b[39m execute\u001b[39m.\u001b[39mexecute_with_cancellation(\n\u001b[1;32m    <a href='file:///~/dev/lprnet/.direnv/python-3.8.10/lib/python3.8/site-packages/tensorflow/python/eager/function.py?line=506'>507</a>\u001b[0m         \u001b[39mstr\u001b[39m(\u001b[39mself\u001b[39m\u001b[39m.\u001b[39msignature\u001b[39m.\u001b[39mname),\n\u001b[1;32m    <a href='file:///~/dev/lprnet/.direnv/python-3.8.10/lib/python3.8/site-packages/tensorflow/python/eager/function.py?line=507'>508</a>\u001b[0m         num_outputs\u001b[39m=\u001b[39m\u001b[39mself\u001b[39m\u001b[39m.\u001b[39m_num_outputs,\n\u001b[0;32m   (...)\u001b[0m\n\u001b[1;32m    <a href='file:///~/dev/lprnet/.direnv/python-3.8.10/lib/python3.8/site-packages/tensorflow/python/eager/function.py?line=510'>511</a>\u001b[0m         ctx\u001b[39m=\u001b[39mctx,\n\u001b[1;32m    <a href='file:///~/dev/lprnet/.direnv/python-3.8.10/lib/python3.8/site-packages/tensorflow/python/eager/function.py?line=511'>512</a>\u001b[0m         cancellation_manager\u001b[39m=\u001b[39mcancellation_manager)\n",
      "File \u001b[0;32m~/dev/lprnet/.direnv/python-3.8.10/lib/python3.8/site-packages/tensorflow/python/eager/execute.py:54\u001b[0m, in \u001b[0;36mquick_execute\u001b[0;34m(op_name, num_outputs, inputs, attrs, ctx, name)\u001b[0m\n\u001b[1;32m     <a href='file:///~/dev/lprnet/.direnv/python-3.8.10/lib/python3.8/site-packages/tensorflow/python/eager/execute.py?line=51'>52</a>\u001b[0m \u001b[39mtry\u001b[39;00m:\n\u001b[1;32m     <a href='file:///~/dev/lprnet/.direnv/python-3.8.10/lib/python3.8/site-packages/tensorflow/python/eager/execute.py?line=52'>53</a>\u001b[0m   ctx\u001b[39m.\u001b[39mensure_initialized()\n\u001b[0;32m---> <a href='file:///~/dev/lprnet/.direnv/python-3.8.10/lib/python3.8/site-packages/tensorflow/python/eager/execute.py?line=53'>54</a>\u001b[0m   tensors \u001b[39m=\u001b[39m pywrap_tfe\u001b[39m.\u001b[39;49mTFE_Py_Execute(ctx\u001b[39m.\u001b[39;49m_handle, device_name, op_name,\n\u001b[1;32m     <a href='file:///~/dev/lprnet/.direnv/python-3.8.10/lib/python3.8/site-packages/tensorflow/python/eager/execute.py?line=54'>55</a>\u001b[0m                                       inputs, attrs, num_outputs)\n\u001b[1;32m     <a href='file:///~/dev/lprnet/.direnv/python-3.8.10/lib/python3.8/site-packages/tensorflow/python/eager/execute.py?line=55'>56</a>\u001b[0m \u001b[39mexcept\u001b[39;00m core\u001b[39m.\u001b[39m_NotOkStatusException \u001b[39mas\u001b[39;00m e:\n\u001b[1;32m     <a href='file:///~/dev/lprnet/.direnv/python-3.8.10/lib/python3.8/site-packages/tensorflow/python/eager/execute.py?line=56'>57</a>\u001b[0m   \u001b[39mif\u001b[39;00m name \u001b[39mis\u001b[39;00m \u001b[39mnot\u001b[39;00m \u001b[39mNone\u001b[39;00m:\n",
      "\u001b[0;31mKeyboardInterrupt\u001b[0m: "
     ]
    }
   ],
   "source": [
    "callbacks=[\n",
    "    keras.callbacks.EarlyStopping(\n",
    "        monitor=\"val_loss\", mode=\"min\", patience=10\n",
    "    )\n",
    "]\n",
    "\n",
    "model.fit(\n",
    "    train_data, train_labels,\n",
    "    validation_data=(val_data, val_labels),\n",
    "    epochs=50,\n",
    "    batch_size=32,\n",
    "    callbacks=callbacks\n",
    ")"
   ]
  }
 ],
 "metadata": {
  "interpreter": {
   "hash": "d729c60030d22124f309314ed8b536bbf05fb9d62d10f80118cbfedc7320c2c2"
  },
  "kernelspec": {
   "display_name": "Python 3.8.10 64-bit ('python-3.8.10': venv)",
   "language": "python",
   "name": "python3"
  },
  "language_info": {
   "codemirror_mode": {
    "name": "ipython",
    "version": 3
   },
   "file_extension": ".py",
   "mimetype": "text/x-python",
   "name": "python",
   "nbconvert_exporter": "python",
   "pygments_lexer": "ipython3",
   "version": "3.8.10"
  },
  "orig_nbformat": 4
 },
 "nbformat": 4,
 "nbformat_minor": 2
}
